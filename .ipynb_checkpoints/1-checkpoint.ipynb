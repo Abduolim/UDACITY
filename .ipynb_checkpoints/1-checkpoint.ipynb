{
 "cells": [
  {
   "cell_type": "markdown",
   "id": "7e835ab8-6a43-4631-9d2f-0dab02b015bb",
   "metadata": {
    "jp-MarkdownHeadingCollapsed": true
   },
   "source": [
    "# DAY 1"
   ]
  },
  {
   "cell_type": "code",
   "execution_count": 1,
   "id": "0e3de79c-98fd-4c28-88c2-24cb90f4951f",
   "metadata": {},
   "outputs": [
    {
     "name": "stdout",
     "output_type": "stream",
     "text": [
      "<class 'float'>\n"
     ]
    }
   ],
   "source": [
    "print(type(2.0))"
   ]
  },
  {
   "cell_type": "code",
   "execution_count": 3,
   "id": "6fb2373d-1d6b-4679-8a1b-ce8965e1f63a",
   "metadata": {},
   "outputs": [
    {
     "name": "stdout",
     "output_type": "stream",
     "text": [
      "<class 'int'>\n"
     ]
    }
   ],
   "source": [
    "print(type(2))"
   ]
  },
  {
   "cell_type": "code",
   "execution_count": 5,
   "id": "8dccd309-602b-4cea-af63-ea97beae05c6",
   "metadata": {},
   "outputs": [
    {
     "name": "stdout",
     "output_type": "stream",
     "text": [
      "5.0\n"
     ]
    }
   ],
   "source": [
    "print(2+3.0)"
   ]
  },
  {
   "cell_type": "code",
   "execution_count": 9,
   "id": "00d2d193-07d8-4173-bc5e-29cba103f8c0",
   "metadata": {},
   "outputs": [
    {
     "name": "stdout",
     "output_type": "stream",
     "text": [
      "5\n"
     ]
    }
   ],
   "source": [
    "print(int(2+3.0))"
   ]
  },
  {
   "cell_type": "code",
   "execution_count": 11,
   "id": "b7535ea5-6a02-45bc-8b39-3ddcc447810a",
   "metadata": {},
   "outputs": [
    {
     "name": "stdout",
     "output_type": "stream",
     "text": [
      "5\n"
     ]
    }
   ],
   "source": [
    "print(int(2.9999+3.0000))"
   ]
  },
  {
   "cell_type": "code",
   "execution_count": 13,
   "id": "6500889b-a0f7-438f-a918-247c155ce60c",
   "metadata": {},
   "outputs": [
    {
     "name": "stdout",
     "output_type": "stream",
     "text": [
      "0.1\n"
     ]
    }
   ],
   "source": [
    "print(float(.1))"
   ]
  },
  {
   "cell_type": "code",
   "execution_count": 15,
   "id": "82a4bfee-71bd-46c9-8b22-08a045678b40",
   "metadata": {},
   "outputs": [
    {
     "name": "stdout",
     "output_type": "stream",
     "text": [
      "0.30000000000000004\n"
     ]
    }
   ],
   "source": [
    "print(.1+.1+.1)"
   ]
  },
  {
   "cell_type": "markdown",
   "id": "b29c3f60-e36e-421a-9160-305c01734a02",
   "metadata": {
    "jp-MarkdownHeadingCollapsed": true
   },
   "source": [
    "# DAY 2"
   ]
  },
  {
   "cell_type": "code",
   "execution_count": 3,
   "id": "ebbd4643-2551-4880-b59a-c46a9a95357f",
   "metadata": {},
   "outputs": [
    {
     "name": "stdout",
     "output_type": "stream",
     "text": [
      "Hello, welcome to Udacity!\n"
     ]
    }
   ],
   "source": [
    "welcome_message = \"Hello, welcome to Udacity!\"\n",
    "print(welcome_message)"
   ]
  },
  {
   "cell_type": "code",
   "execution_count": 9,
   "id": "5217cbc6-a842-4960-bbeb-7d364b330b3b",
   "metadata": {},
   "outputs": [
    {
     "name": "stdout",
     "output_type": "stream",
     "text": [
      "\"I think yor're an encyclopedia salesman\"\n"
     ]
    }
   ],
   "source": [
    "salesman = '\"I think yor\\'re an encyclopedia salesman\"'\n",
    "print(salesman)"
   ]
  },
  {
   "cell_type": "code",
   "execution_count": 11,
   "id": "7a07ceae-1df4-4169-8b7e-d66375b824de",
   "metadata": {},
   "outputs": [
    {
     "name": "stdout",
     "output_type": "stream",
     "text": [
      "AbduolimAhmadjonov\n"
     ]
    }
   ],
   "source": [
    "name = \"Abduolim\"\n",
    "surname = \"Ahmadjonov\"\n",
    "print(name + surname)"
   ]
  },
  {
   "cell_type": "code",
   "execution_count": 13,
   "id": "b2659695-a2aa-47a8-8a4e-93ce6bf5f8e8",
   "metadata": {},
   "outputs": [
    {
     "name": "stdout",
     "output_type": "stream",
     "text": [
      "Abduolim Ahmadjonov\n"
     ]
    }
   ],
   "source": [
    "print(name + \" \" + surname)"
   ]
  },
  {
   "cell_type": "code",
   "execution_count": 19,
   "id": "42b90699-b3c1-4df0-8d1e-b2f1b945b037",
   "metadata": {},
   "outputs": [
    {
     "name": "stdout",
     "output_type": "stream",
     "text": [
      "AbduolimAbduolimAbduolimAbduolimAbduolim\n"
     ]
    }
   ],
   "source": [
    "name = \"Abduolim\"\n",
    "print(name * 5)"
   ]
  },
  {
   "cell_type": "code",
   "execution_count": 27,
   "id": "ccba9e3c-fa22-4909-b3d0-1208ebc2dc34",
   "metadata": {},
   "outputs": [
    {
     "name": "stdout",
     "output_type": "stream",
     "text": [
      "8\n"
     ]
    }
   ],
   "source": [
    "abduolim_length = len(\"Abduolim\")\n",
    "print(abduolim_length)"
   ]
  },
  {
   "cell_type": "code",
   "execution_count": 29,
   "id": "78262a8f-fa90-4bdc-b425-c1f5d580215f",
   "metadata": {},
   "outputs": [
    {
     "data": {
      "text/plain": [
       "'A'"
      ]
     },
     "execution_count": 29,
     "metadata": {},
     "output_type": "execute_result"
    }
   ],
   "source": [
    "name[0]"
   ]
  },
  {
   "cell_type": "code",
   "execution_count": 31,
   "id": "ed1c42f7-c1cb-4278-8180-89ea7c2286df",
   "metadata": {},
   "outputs": [
    {
     "data": {
      "text/plain": [
       "'b'"
      ]
     },
     "execution_count": 31,
     "metadata": {},
     "output_type": "execute_result"
    }
   ],
   "source": [
    "name[1]"
   ]
  },
  {
   "cell_type": "code",
   "execution_count": 33,
   "id": "75795590-bcc2-426e-b140-f476c55adb74",
   "metadata": {},
   "outputs": [
    {
     "name": "stdout",
     "output_type": "stream",
     "text": [
      "0.8\n"
     ]
    }
   ],
   "source": [
    "print(len(name)/len(surname))"
   ]
  },
  {
   "cell_type": "code",
   "execution_count": 37,
   "id": "01fb9ef8-3069-442c-9f05-9e92f97921eb",
   "metadata": {},
   "outputs": [
    {
     "name": "stdout",
     "output_type": "stream",
     "text": [
      "<class 'int'>\n",
      "<class 'float'>\n",
      "<class 'str'>\n",
      "<class 'bool'>\n"
     ]
    }
   ],
   "source": [
    "print(type(100))\n",
    "print(type(100.0))\n",
    "print(type(\"100\"))\n",
    "print(type(True))"
   ]
  },
  {
   "cell_type": "code",
   "execution_count": 45,
   "id": "ef98503f-70f4-4b76-9222-4aa1efab7dc3",
   "metadata": {},
   "outputs": [
    {
     "name": "stdout",
     "output_type": "stream",
     "text": [
      "<class 'int'>\n",
      "27 Navnikhol, Uychi\n"
     ]
    }
   ],
   "source": [
    "house_number = 27\n",
    "street_name = \"Navnikhol\"\n",
    "town_name = \"Uychi\"\n",
    "\n",
    "print(type(house_number))\n",
    "\n",
    "address = str(house_number) + \" \" + street_name + \", \" + town_name\n",
    "print(address)"
   ]
  },
  {
   "cell_type": "code",
   "execution_count": 47,
   "id": "0c10fc6f-3525-464b-88e3-5f6011c1f83a",
   "metadata": {},
   "outputs": [
    {
     "data": {
      "text/plain": [
       "'05'"
      ]
     },
     "execution_count": 47,
     "metadata": {},
     "output_type": "execute_result"
    }
   ],
   "source": [
    "\"0\"+\"5\""
   ]
  },
  {
   "cell_type": "code",
   "execution_count": 49,
   "id": "95cc6481-dc22-42db-a2aa-c519ac965304",
   "metadata": {},
   "outputs": [
    {
     "ename": "TypeError",
     "evalue": "can only concatenate str (not \"int\") to str",
     "output_type": "error",
     "traceback": [
      "\u001b[1;31m---------------------------------------------------------------------------\u001b[0m",
      "\u001b[1;31mTypeError\u001b[0m                                 Traceback (most recent call last)",
      "Cell \u001b[1;32mIn[49], line 1\u001b[0m\n\u001b[1;32m----> 1\u001b[0m \u001b[38;5;124m\"\u001b[39m\u001b[38;5;124m0\u001b[39m\u001b[38;5;124m\"\u001b[39m\u001b[38;5;241m+\u001b[39m\u001b[38;5;241m5\u001b[39m\n",
      "\u001b[1;31mTypeError\u001b[0m: can only concatenate str (not \"int\") to str"
     ]
    }
   ],
   "source": [
    "\"0\"+5"
   ]
  },
  {
   "cell_type": "code",
   "execution_count": 51,
   "id": "c8174eae-d1ee-4318-9ea9-086d25e5bf48",
   "metadata": {},
   "outputs": [
    {
     "data": {
      "text/plain": [
       "'00000'"
      ]
     },
     "execution_count": 51,
     "metadata": {},
     "output_type": "execute_result"
    }
   ],
   "source": [
    "\"0\"*5"
   ]
  },
  {
   "cell_type": "code",
   "execution_count": 53,
   "id": "acc678fb-77d2-4a6d-9890-183c5199b44a",
   "metadata": {},
   "outputs": [
    {
     "ename": "TypeError",
     "evalue": "unsupported operand type(s) for +: 'int' and 'str'",
     "output_type": "error",
     "traceback": [
      "\u001b[1;31m---------------------------------------------------------------------------\u001b[0m",
      "\u001b[1;31mTypeError\u001b[0m                                 Traceback (most recent call last)",
      "Cell \u001b[1;32mIn[53], line 1\u001b[0m\n\u001b[1;32m----> 1\u001b[0m \u001b[38;5;241m0\u001b[39m\u001b[38;5;241m+\u001b[39m\u001b[38;5;124m\"\u001b[39m\u001b[38;5;124m5\u001b[39m\u001b[38;5;124m\"\u001b[39m\n",
      "\u001b[1;31mTypeError\u001b[0m: unsupported operand type(s) for +: 'int' and 'str'"
     ]
    }
   ],
   "source": [
    "0+\"5\""
   ]
  },
  {
   "cell_type": "code",
   "execution_count": 55,
   "id": "2e1d9982-aadf-4f07-b1ca-51eaf95acec8",
   "metadata": {},
   "outputs": [
    {
     "name": "stdout",
     "output_type": "stream",
     "text": [
      "Abduolim Ahmadjonov\n"
     ]
    }
   ],
   "source": [
    "full_name = \"abduolim ahmadjonov\"\n",
    "print(full_name.title())"
   ]
  },
  {
   "cell_type": "code",
   "execution_count": 57,
   "id": "f79d72d6-2018-4a2b-b417-a69da106c422",
   "metadata": {},
   "outputs": [
    {
     "data": {
      "text/plain": [
       "True"
      ]
     },
     "execution_count": 57,
     "metadata": {},
     "output_type": "execute_result"
    }
   ],
   "source": [
    "full_name.islower()"
   ]
  },
  {
   "cell_type": "code",
   "execution_count": 59,
   "id": "a4abfd9a-f761-48c4-96a3-bbac5e95048a",
   "metadata": {},
   "outputs": [
    {
     "data": {
      "text/plain": [
       "False"
      ]
     },
     "execution_count": 59,
     "metadata": {},
     "output_type": "execute_result"
    }
   ],
   "source": [
    "full_name.title().islower()"
   ]
  },
  {
   "cell_type": "code",
   "execution_count": 63,
   "id": "b2025486-6dc3-4d3f-867c-3859796e3b77",
   "metadata": {},
   "outputs": [
    {
     "data": {
      "text/plain": [
       "3"
      ]
     },
     "execution_count": 63,
     "metadata": {},
     "output_type": "execute_result"
    }
   ],
   "source": [
    "full_name.count(\"a\")"
   ]
  },
  {
   "cell_type": "code",
   "execution_count": 77,
   "id": "29aa939e-0fff-4596-9167-8e54d0ba9b75",
   "metadata": {},
   "outputs": [
    {
     "data": {
      "text/plain": [
       "1"
      ]
     },
     "execution_count": 77,
     "metadata": {},
     "output_type": "execute_result"
    }
   ],
   "source": [
    "full_name.find(\"b\")"
   ]
  },
  {
   "cell_type": "code",
   "execution_count": 81,
   "id": "509e0301-3d00-42d3-9749-7cc4c56dd0fb",
   "metadata": {},
   "outputs": [
    {
     "name": "stdout",
     "output_type": "stream",
     "text": [
      "Abduolim 2003 - yilda tug'ulgan\n"
     ]
    }
   ],
   "source": [
    "print(\"Abduolim {} - yilda tug'ulgan\".format(2003))"
   ]
  },
  {
   "cell_type": "code",
   "execution_count": 87,
   "id": "dd8aa0fc-f54f-41c3-9dfb-de1e25613b00",
   "metadata": {},
   "outputs": [
    {
     "name": "stdout",
     "output_type": "stream",
     "text": [
      "Abduolim 2003 - yil Namangan shaharda tug'ulgan.\n"
     ]
    }
   ],
   "source": [
    "adress = \"Namangan shahar\"\n",
    "year = 2003\n",
    "\n",
    "print(\"Abduolim {} - yil {}da tug'ulgan.\".format(year, adress))"
   ]
  },
  {
   "cell_type": "code",
   "execution_count": 91,
   "id": "a01c7b48-0404-4f88-a41b-1ffe8542b5c9",
   "metadata": {},
   "outputs": [
    {
     "name": "stdout",
     "output_type": "stream",
     "text": [
      "Abduolim loves math and computer science\n"
     ]
    }
   ],
   "source": [
    "abduolim_string = \"Abduolim loves {} and {}\"\n",
    "print(abduolim_string.format(\"math\", \"computer science\"))"
   ]
  },
  {
   "cell_type": "code",
   "execution_count": 95,
   "id": "a5723b8f-1681-4ecf-9ce1-25ee927e3114",
   "metadata": {},
   "outputs": [
    {
     "name": "stdout",
     "output_type": "stream",
     "text": [
      "a,c and b\n"
     ]
    }
   ],
   "source": [
    "print(\"{0},{2} and {1}\".format('a','b','c'))"
   ]
  },
  {
   "cell_type": "code",
   "execution_count": 97,
   "id": "e7763d93-7d8c-4efc-8a2c-ac20443c99ce",
   "metadata": {},
   "outputs": [
    {
     "name": "stdout",
     "output_type": "stream",
     "text": [
      "Hello, Abduolim\n"
     ]
    }
   ],
   "source": [
    "name = \"Abduolim\"\n",
    "print(f\"Hello, {name}\")"
   ]
  },
  {
   "cell_type": "code",
   "execution_count": 99,
   "id": "6db8f610-9b8c-4b35-97c6-b9c10359de7d",
   "metadata": {},
   "outputs": [
    {
     "name": "stdout",
     "output_type": "stream",
     "text": [
      "The sum of 5 and 7 is 12\n"
     ]
    }
   ],
   "source": [
    "a=5\n",
    "b=7\n",
    "\n",
    "print(f\"The sum of {a} and {b} is {a+b}\")"
   ]
  },
  {
   "cell_type": "code",
   "execution_count": 109,
   "id": "654f1dfd-d8e9-4911-a8e9-cd85cff89e9b",
   "metadata": {},
   "outputs": [
    {
     "data": {
      "text/plain": [
       "['Abduolim', 'passed', 'the', 'exam', 'at', 'the', 'university.']"
      ]
     },
     "execution_count": 109,
     "metadata": {},
     "output_type": "execute_result"
    }
   ],
   "source": [
    "new_str = \"Abduolim passed the exam at the university.\"\n",
    "new_str.split()"
   ]
  },
  {
   "cell_type": "code",
   "execution_count": 111,
   "id": "1af8d038-04d3-4e03-93d7-8bfe7526a395",
   "metadata": {},
   "outputs": [
    {
     "data": {
      "text/plain": [
       "['Abduolim', 'passed', 'the', 'exam', 'at the university.']"
      ]
     },
     "execution_count": 111,
     "metadata": {},
     "output_type": "execute_result"
    }
   ],
   "source": [
    "new_str.split(' ', 4)"
   ]
  },
  {
   "cell_type": "code",
   "execution_count": 113,
   "id": "d4ee5a8e-b05e-4460-8d7d-37efaaae0fae",
   "metadata": {},
   "outputs": [
    {
     "data": {
      "text/plain": [
       "['Abduolim passed the exam at the university', '']"
      ]
     },
     "execution_count": 113,
     "metadata": {},
     "output_type": "execute_result"
    }
   ],
   "source": [
    "new_str.split('.')"
   ]
  },
  {
   "cell_type": "code",
   "execution_count": 115,
   "id": "c2ab2d7c-9cb2-4ec3-8f15-0a50217eb124",
   "metadata": {},
   "outputs": [
    {
     "data": {
      "text/plain": [
       "['Abduolim', 'passed', 'the', 'exam', 'at the university.']"
      ]
     },
     "execution_count": 115,
     "metadata": {},
     "output_type": "execute_result"
    }
   ],
   "source": [
    "new_str.split(None, 4)"
   ]
  },
  {
   "cell_type": "code",
   "execution_count": 127,
   "id": "f32ec355-eef3-4804-b28c-f5eec2a9e70e",
   "metadata": {},
   "outputs": [
    {
     "data": {
      "text/plain": [
       "29"
      ]
     },
     "execution_count": 127,
     "metadata": {},
     "output_type": "execute_result"
    }
   ],
   "source": [
    "verse = \"Abduolim bugun \\nishga kelmadi\"\n",
    "len(verse)"
   ]
  },
  {
   "cell_type": "markdown",
   "id": "9e1ceed6-86e9-4ef1-ad37-d3d0e80e071b",
   "metadata": {},
   "source": [
    "#DAY 3"
   ]
  },
  {
   "cell_type": "code",
   "execution_count": 3,
   "id": "eefa5158-4870-49ac-be51-2c00e8fb7769",
   "metadata": {},
   "outputs": [
    {
     "name": "stdout",
     "output_type": "stream",
     "text": [
      "january\n",
      "february\n",
      "december\n",
      "december\n",
      "january\n"
     ]
    }
   ],
   "source": [
    "months = ['january','february', 'march', 'april', 'may', 'june', 'july', 'august', 'september', 'october', 'november', 'december']\n",
    "print(months[0])\n",
    "print(months[1])\n",
    "print(months[11])\n",
    "print(months[-1])\n",
    "print(months[-12])"
   ]
  },
  {
   "cell_type": "code",
   "execution_count": 6,
   "id": "8f4de7d8-3243-4610-934a-28241aa48792",
   "metadata": {},
   "outputs": [],
   "source": [
    "list_of_random_things = [1, 3.5, 'a string', True]"
   ]
  },
  {
   "cell_type": "code",
   "execution_count": 8,
   "id": "75121b83-949f-4cdd-975a-4b6120448c01",
   "metadata": {},
   "outputs": [
    {
     "data": {
      "text/plain": [
       "4"
      ]
     },
     "execution_count": 8,
     "metadata": {},
     "output_type": "execute_result"
    }
   ],
   "source": [
    "len(list_of_random_things)"
   ]
  },
  {
   "cell_type": "code",
   "execution_count": 14,
   "id": "7bfe611b-5474-4bea-9945-fe7767cfaa71",
   "metadata": {},
   "outputs": [
    {
     "name": "stdout",
     "output_type": "stream",
     "text": [
      "['july', 'august', 'september']\n"
     ]
    }
   ],
   "source": [
    "part_of_list = months[6:9] # 6-dagi kiradi lekin 9-dagi kirmaydi\n",
    "print(part_of_list)"
   ]
  },
  {
   "cell_type": "code",
   "execution_count": 18,
   "id": "867441cc-1fe0-4d9c-af14-45eea728c65c",
   "metadata": {},
   "outputs": [
    {
     "name": "stdout",
     "output_type": "stream",
     "text": [
      "['january', 'february', 'march', 'april', 'may', 'june']\n"
     ]
    }
   ],
   "source": [
    "print(months[:6]) # 6-dagi kirmaydi"
   ]
  },
  {
   "cell_type": "code",
   "execution_count": 20,
   "id": "a2417a17-3716-4b48-89b0-f456a7ddeba5",
   "metadata": {},
   "outputs": [
    {
     "name": "stdout",
     "output_type": "stream",
     "text": [
      "['july', 'august', 'september', 'october', 'november', 'december']\n"
     ]
    }
   ],
   "source": [
    "print(months[6:])  # bunda 6- element kiradi"
   ]
  },
  {
   "cell_type": "code",
   "execution_count": 22,
   "id": "e73d0eb8-96ef-4f3d-9d5e-edc9854e3c54",
   "metadata": {},
   "outputs": [],
   "source": [
    "greeting = \"Hello there\"\n",
    "months = ['january','february', 'march', 'april', 'may', 'june', 'july', 'august', 'september', 'october', 'november', 'december']"
   ]
  },
  {
   "cell_type": "code",
   "execution_count": 24,
   "id": "a8b81c3f-f156-4123-b948-21463aceb50b",
   "metadata": {},
   "outputs": [
    {
     "name": "stdout",
     "output_type": "stream",
     "text": [
      "11\n",
      "12\n"
     ]
    },
    {
     "data": {
      "text/plain": [
       "(None, None)"
      ]
     },
     "execution_count": 24,
     "metadata": {},
     "output_type": "execute_result"
    }
   ],
   "source": [
    "print(len(greeting)), print(len(months))"
   ]
  },
  {
   "cell_type": "code",
   "execution_count": 30,
   "id": "bcf24e9b-fa2b-48f7-9963-fb455261dfae",
   "metadata": {},
   "outputs": [
    {
     "name": "stdout",
     "output_type": "stream",
     "text": [
      "11 12\n"
     ]
    }
   ],
   "source": [
    "print(len(greeting), len(months))"
   ]
  },
  {
   "cell_type": "code",
   "execution_count": 32,
   "id": "7346bced-42ae-4c13-913a-99d422e1d502",
   "metadata": {},
   "outputs": [
    {
     "name": "stdout",
     "output_type": "stream",
     "text": [
      "the ['july', 'august', 'september']\n"
     ]
    }
   ],
   "source": [
    "print(greeting[6:9], months[6:9])"
   ]
  },
  {
   "cell_type": "code",
   "execution_count": 36,
   "id": "ee8e4894-fb6a-45df-8b8e-0562c24d86e0",
   "metadata": {},
   "outputs": [
    {
     "name": "stdout",
     "output_type": "stream",
     "text": [
      "True\n"
     ]
    }
   ],
   "source": [
    "print('her' in greeting)"
   ]
  },
  {
   "cell_type": "code",
   "execution_count": 40,
   "id": "436a239f-643c-481d-9384-737153d396ba",
   "metadata": {},
   "outputs": [
    {
     "name": "stdout",
     "output_type": "stream",
     "text": [
      "False\n"
     ]
    }
   ],
   "source": [
    "print('her' not in greeting)"
   ]
  },
  {
   "cell_type": "code",
   "execution_count": 42,
   "id": "6396273a-114b-4675-b825-73da1c0e4cb4",
   "metadata": {},
   "outputs": [
    {
     "name": "stdout",
     "output_type": "stream",
     "text": [
      "True\n"
     ]
    }
   ],
   "source": [
    "print('that' not in greeting)"
   ]
  },
  {
   "cell_type": "code",
   "execution_count": 44,
   "id": "eeb53956-52aa-4afd-98a8-5f7877b13980",
   "metadata": {},
   "outputs": [
    {
     "data": {
      "text/plain": [
       "True"
      ]
     },
     "execution_count": 44,
     "metadata": {},
     "output_type": "execute_result"
    }
   ],
   "source": [
    "'this' in 'this is a string'"
   ]
  },
  {
   "cell_type": "code",
   "execution_count": 46,
   "id": "226852fd-868f-49a7-a6cc-f03188c37f7f",
   "metadata": {},
   "outputs": [
    {
     "data": {
      "text/plain": [
       "True"
      ]
     },
     "execution_count": 46,
     "metadata": {},
     "output_type": "execute_result"
    }
   ],
   "source": [
    "'in' in 'this is a string'"
   ]
  },
  {
   "cell_type": "code",
   "execution_count": 48,
   "id": "8aa124e1-0efa-4a00-8bf5-a88f8fff392a",
   "metadata": {},
   "outputs": [
    {
     "data": {
      "text/plain": [
       "True"
      ]
     },
     "execution_count": 48,
     "metadata": {},
     "output_type": "execute_result"
    }
   ],
   "source": [
    "5 in [2, 5, 7, 8]"
   ]
  },
  {
   "cell_type": "code",
   "execution_count": 50,
   "id": "1dd29553-f98a-460f-ac17-02d815d33faa",
   "metadata": {},
   "outputs": [
    {
     "name": "stdout",
     "output_type": "stream",
     "text": [
      "['january', 'february', 'march', '_monday_', 'may', 'june', 'july', 'august', 'september', 'october', 'november', 'december']\n"
     ]
    }
   ],
   "source": [
    "months2 = ['january','february', 'march', 'april', 'may', 'june', 'july', 'august', 'september', 'october', 'november', 'december']\n",
    "months2[3] = '_monday_'\n",
    "print(months2)"
   ]
  },
  {
   "cell_type": "code",
   "execution_count": 52,
   "id": "f8a26dd9-02ee-4819-b9d4-c2c82db6262f",
   "metadata": {},
   "outputs": [
    {
     "ename": "TypeError",
     "evalue": "'str' object does not support item assignment",
     "output_type": "error",
     "traceback": [
      "\u001b[1;31m---------------------------------------------------------------------------\u001b[0m",
      "\u001b[1;31mTypeError\u001b[0m                                 Traceback (most recent call last)",
      "Cell \u001b[1;32mIn[52], line 2\u001b[0m\n\u001b[0;32m      1\u001b[0m greeting \u001b[38;5;241m=\u001b[39m \u001b[38;5;124m'\u001b[39m\u001b[38;5;124mhello there\u001b[39m\u001b[38;5;124m'\u001b[39m\n\u001b[1;32m----> 2\u001b[0m greeting[\u001b[38;5;241m1\u001b[39m] \u001b[38;5;241m=\u001b[39m \u001b[38;5;124m'\u001b[39m\u001b[38;5;124mi\u001b[39m\u001b[38;5;124m'\u001b[39m\n\u001b[0;32m      3\u001b[0m \u001b[38;5;28mprint\u001b[39m(greeting)\n",
      "\u001b[1;31mTypeError\u001b[0m: 'str' object does not support item assignment"
     ]
    }
   ],
   "source": [
    "greeting = 'hello there'\n",
    "greeting[1] = 'i'\n",
    "print(greeting)"
   ]
  },
  {
   "cell_type": "code",
   "execution_count": 54,
   "id": "21cc0853-1377-4f13-a8d1-c305d0fc7d26",
   "metadata": {},
   "outputs": [
    {
     "name": "stdout",
     "output_type": "stream",
     "text": [
      "hillo there\n"
     ]
    }
   ],
   "source": [
    "greeting  = 'hillo there'\n",
    "print(greeting)"
   ]
  },
  {
   "cell_type": "markdown",
   "id": "8b65f71e-d11d-4c7b-9303-9d054c55f964",
   "metadata": {
    "jp-MarkdownHeadingCollapsed": true
   },
   "source": [
    "# Day 3"
   ]
  },
  {
   "cell_type": "code",
   "execution_count": 5,
   "id": "eb7128ff-961e-4440-bcd9-87da5a7ceeec",
   "metadata": {},
   "outputs": [
    {
     "name": "stdout",
     "output_type": "stream",
     "text": [
      "Abbosbek\n",
      "Abduolim\n"
     ]
    }
   ],
   "source": [
    "name = 'Abduolim'\n",
    "student = name\n",
    "name = 'Abbosbek'\n",
    "\n",
    "print(name)\n",
    "print(student)\n"
   ]
  },
  {
   "cell_type": "code",
   "execution_count": 9,
   "id": "cab0d746-83ec-4942-a114-487c66b3448d",
   "metadata": {},
   "outputs": [
    {
     "name": "stdout",
     "output_type": "stream",
     "text": [
      "scores: ['B', 'C', 'A', 'D', 'B', 'A']\n",
      "grades: ['B', 'C', 'A', 'D', 'B', 'A']\n"
     ]
    }
   ],
   "source": [
    "scores = [\"B\", \"C\", \"A\", \"D\", \"B\", \"A\"]\n",
    "grades = scores\n",
    "\n",
    "print(\"scores: \" + str(scores))\n",
    "print(\"grades: \" + str(grades))"
   ]
  },
  {
   "cell_type": "code",
   "execution_count": 11,
   "id": "c7a9d8c9-8595-4b7a-9513-180f8269e8e9",
   "metadata": {},
   "outputs": [
    {
     "name": "stdout",
     "output_type": "stream",
     "text": [
      "scores: ['B', 'C', 'A', 'D', 'B', 'A']\n",
      "grades: ['B', 'C', 'A', 'D', 'B', 'A']\n",
      "scores: ['B', 'C', 'A', 'B', 'B', 'A']\n",
      "grades: ['B', 'C', 'A', 'B', 'B', 'A']\n"
     ]
    }
   ],
   "source": [
    "scores = [\"B\", \"C\", \"A\", \"D\", \"B\", \"A\"]\n",
    "grades = scores\n",
    "\n",
    "print(\"scores: \" + str(scores))\n",
    "print(\"grades: \" + str(grades))\n",
    "\n",
    "scores[3] = \"B\"\n",
    "\n",
    "print(\"scores: \" + str(scores))\n",
    "print(\"grades: \" + str(grades))"
   ]
  },
  {
   "cell_type": "code",
   "execution_count": 13,
   "id": "925ef405-3c72-4387-924e-33998b03a871",
   "metadata": {},
   "outputs": [
    {
     "name": "stdout",
     "output_type": "stream",
     "text": [
      "scores: ['B', 'C', 'A', 'D', 'B', 'A']\n",
      "grades: ['B', 'C', 'A', 'D', 'B', 'A']\n",
      "scores: ['B', 'C', 'A', 'B', 'B', 'A']\n",
      "grades: ['B', 'C', 'A', 'B', 'B', 'A']\n"
     ]
    }
   ],
   "source": [
    "scores = [\"B\", \"C\", \"A\", \"D\", \"B\", \"A\"]\n",
    "grades = scores\n",
    "\n",
    "print(\"scores: \" + str(scores))\n",
    "print(\"grades: \" + str(grades))\n",
    "\n",
    "grades[3] = \"B\"\n",
    "\n",
    "print(\"scores: \" + str(scores))\n",
    "print(\"grades: \" + str(grades))"
   ]
  },
  {
   "cell_type": "code",
   "execution_count": 15,
   "id": "64576714-8632-44ab-b47a-db9633d6927e",
   "metadata": {},
   "outputs": [
    {
     "data": {
      "text/plain": [
       "6"
      ]
     },
     "execution_count": 15,
     "metadata": {},
     "output_type": "execute_result"
    }
   ],
   "source": [
    "len(scores)"
   ]
  },
  {
   "cell_type": "code",
   "execution_count": 17,
   "id": "2978683f-bf0e-4fb8-aa60-fc482850b63e",
   "metadata": {},
   "outputs": [
    {
     "data": {
      "text/plain": [
       "'C'"
      ]
     },
     "execution_count": 17,
     "metadata": {},
     "output_type": "execute_result"
    }
   ],
   "source": [
    "max(grades)"
   ]
  },
  {
   "cell_type": "code",
   "execution_count": 23,
   "id": "7c9e07e5-b008-4448-bbdb-7146d548244e",
   "metadata": {},
   "outputs": [
    {
     "data": {
      "text/plain": [
       "'w'"
      ]
     },
     "execution_count": 23,
     "metadata": {},
     "output_type": "execute_result"
    }
   ],
   "source": [
    "mylist = [\"as\", \"sa\", \"w\", \"aa\"]\n",
    "len(mylist)\n",
    "max(mylist)"
   ]
  },
  {
   "cell_type": "code",
   "execution_count": 25,
   "id": "1cd748a9-2f70-44aa-af8f-2c64df45f3cb",
   "metadata": {},
   "outputs": [
    {
     "data": {
      "text/plain": [
       "'aa'"
      ]
     },
     "execution_count": 25,
     "metadata": {},
     "output_type": "execute_result"
    }
   ],
   "source": [
    "min(mylist)"
   ]
  },
  {
   "cell_type": "code",
   "execution_count": 31,
   "id": "754148aa-40a1-450c-9b8c-2bccadf00a62",
   "metadata": {},
   "outputs": [
    {
     "name": "stdout",
     "output_type": "stream",
     "text": [
      "[6, 15, 34, 35, 65, 89]\n"
     ]
    }
   ],
   "source": [
    "sizes = [15, 6, 89, 34, 65, 35]\n",
    "print(sorted(sizes))"
   ]
  },
  {
   "cell_type": "code",
   "execution_count": 33,
   "id": "fe613de9-d6f0-49a7-85c0-e4431538322a",
   "metadata": {},
   "outputs": [
    {
     "name": "stdout",
     "output_type": "stream",
     "text": [
      "[15, 6, 89, 34, 65, 35]\n"
     ]
    }
   ],
   "source": [
    "print(sizes)"
   ]
  },
  {
   "cell_type": "code",
   "execution_count": 35,
   "id": "e27db73d-9834-4971-9948-b6d08d9f20e7",
   "metadata": {},
   "outputs": [],
   "source": [
    "sizes = sorted(sizes)"
   ]
  },
  {
   "cell_type": "code",
   "execution_count": 39,
   "id": "67477c66-cb8a-4a6f-8a32-a879a9da4d3f",
   "metadata": {},
   "outputs": [
    {
     "name": "stdout",
     "output_type": "stream",
     "text": [
      "[6, 15, 34, 35, 65, 89]\n"
     ]
    }
   ],
   "source": [
    "print(sizes)"
   ]
  },
  {
   "cell_type": "code",
   "execution_count": 41,
   "id": "355e61ea-4335-4014-9f8e-78c4b46c5c1d",
   "metadata": {},
   "outputs": [
    {
     "name": "stdout",
     "output_type": "stream",
     "text": [
      "[89, 65, 35, 34, 15, 6]\n"
     ]
    }
   ],
   "source": [
    "print(sorted(sizes, reverse = True))"
   ]
  },
  {
   "cell_type": "code",
   "execution_count": 43,
   "id": "7102621f-16a9-4c03-81f9-813ff00c5f70",
   "metadata": {},
   "outputs": [
    {
     "name": "stdout",
     "output_type": "stream",
     "text": [
      "fore\n",
      "aft\n",
      "starboard\n",
      "port\n"
     ]
    }
   ],
   "source": [
    "nautical_direction = \"\\n\".join([\"fore\", \"aft\", \"starboard\", \"port\"])\n",
    "print(nautical_direction)"
   ]
  },
  {
   "cell_type": "code",
   "execution_count": 47,
   "id": "33396eaa-f24c-4cde-a1be-5d5663e4ec45",
   "metadata": {},
   "outputs": [
    {
     "name": "stdout",
     "output_type": "stream",
     "text": [
      "fore\n",
      "aft\n",
      "starboard\n",
      "port\n"
     ]
    }
   ],
   "source": [
    "print(nautical_direction)"
   ]
  },
  {
   "cell_type": "code",
   "execution_count": 59,
   "id": "091e666f-8513-47b6-ba42-7d84dafe875d",
   "metadata": {},
   "outputs": [
    {
     "name": "stdout",
     "output_type": "stream",
     "text": [
      "Abduolim\n",
      "Ahmadjonov\n",
      "A'zamjon o'g'li\n",
      "Abduolim+Ahmadjonov+A'zamjon o'g'li\n"
     ]
    }
   ],
   "source": [
    "new_str = [\"Abduolim\", \"Ahmadjonov\", \"A'zamjon o'g'li\"]\n",
    "print(\"\\n\".join(new_str))\n",
    "print(\"+\".join(new_str))"
   ]
  },
  {
   "cell_type": "code",
   "execution_count": 55,
   "id": "42ea533e-4356-4bf0-ad58-7a6edd2f8e6f",
   "metadata": {},
   "outputs": [
    {
     "name": "stdout",
     "output_type": "stream",
     "text": [
      "['Abduolim', 'Ahmadjonov', \"A'zamjon o'g'li\"]\n"
     ]
    }
   ],
   "source": [
    "print(new_str)"
   ]
  },
  {
   "cell_type": "code",
   "execution_count": 65,
   "id": "3dba82ce-6312-4da9-971e-b86a70cd5d04",
   "metadata": {},
   "outputs": [
    {
     "name": "stdout",
     "output_type": "stream",
     "text": [
      "[\"A'zamjon\", \"Ra'noxon\", 'Abduolim', 'Abbosbek', 'Rayhona']\n"
     ]
    }
   ],
   "source": [
    "my_family = [\"A'zamjon\", \"Ra'noxon\", \"Abduolim\", \"Abbosbek\"]\n",
    "my_family.append(\"Rayhona\")\n",
    "print(my_family)"
   ]
  },
  {
   "cell_type": "code",
   "execution_count": 69,
   "id": "4a814144-1cde-4c3c-8cd9-1cbed0fb67b5",
   "metadata": {},
   "outputs": [
    {
     "name": "stdout",
     "output_type": "stream",
     "text": [
      "Albert & Ben & Carol & Donna\n"
     ]
    }
   ],
   "source": [
    "names = [\"Carol\", \"Albert\", \"Ben\", \"Donna\"]\n",
    "print(\" & \".join(sorted(names)))"
   ]
  },
  {
   "cell_type": "code",
   "execution_count": 71,
   "id": "004f5a05-5ae4-4223-bb94-c06cbc238392",
   "metadata": {},
   "outputs": [
    {
     "name": "stdout",
     "output_type": "stream",
     "text": [
      "['Albert', 'Ben', 'Carol', 'Donna', 'Elven']\n"
     ]
    }
   ],
   "source": [
    "names.append(\"Elven\")\n",
    "print(sorted(names))"
   ]
  },
  {
   "cell_type": "code",
   "execution_count": 73,
   "id": "4e5be336-67a0-4cab-abb0-e489e6382ce0",
   "metadata": {},
   "outputs": [],
   "source": [
    "ex_tuple = (12.2222, 10.22212)"
   ]
  },
  {
   "cell_type": "code",
   "execution_count": 87,
   "id": "96579340-98c4-4c85-9e13-dc1d1600c4f9",
   "metadata": {},
   "outputs": [
    {
     "name": "stdout",
     "output_type": "stream",
     "text": [
      "<class 'tuple'>\n"
     ]
    }
   ],
   "source": [
    "print(type(ex_tuple))"
   ]
  },
  {
   "cell_type": "code",
   "execution_count": 91,
   "id": "13e3c215-945e-46af-b019-ee18f47f6fdd",
   "metadata": {},
   "outputs": [
    {
     "name": "stdout",
     "output_type": "stream",
     "text": [
      "Parallilipeding o'lchamlarni 20, 30 va 50 berilgan bo'lsa, hajmini toping\n"
     ]
    }
   ],
   "source": [
    "paralliliped = 20, 30, 50\n",
    "eni, boyi, balandligi = paralliliped\n",
    "print(\"Parallilipeding o'lchamlarni {}, {} va {} berilgan bo'lsa, hajmini toping\".format(eni, boyi, balandligi))"
   ]
  },
  {
   "cell_type": "code",
   "execution_count": 95,
   "id": "109e0e10-0d44-46c4-99ce-0279be276a3b",
   "metadata": {},
   "outputs": [
    {
     "name": "stdout",
     "output_type": "stream",
     "text": [
      "Hello (20, 30, 50)\n"
     ]
    }
   ],
   "source": [
    "print(\"Hello {}\".format(paralliliped))"
   ]
  },
  {
   "cell_type": "code",
   "execution_count": 99,
   "id": "e731d0aa-8a23-4cfa-9e80-88416f906d74",
   "metadata": {},
   "outputs": [
    {
     "data": {
      "text/plain": [
       "True"
      ]
     },
     "execution_count": 99,
     "metadata": {},
     "output_type": "execute_result"
    }
   ],
   "source": [
    "tuple_a = 1, 2\n",
    "tuple_b = (1, 2)\n",
    "tuple_a == tuple_b"
   ]
  },
  {
   "cell_type": "code",
   "execution_count": 106,
   "id": "7b9afa82-3f8f-489a-b529-bc8321c613ea",
   "metadata": {},
   "outputs": [
    {
     "name": "stdout",
     "output_type": "stream",
     "text": [
      "(1, 2, 1, 2)\n"
     ]
    }
   ],
   "source": [
    "ab = tuple_a + tuple_b\n",
    "print(ab)"
   ]
  },
  {
   "cell_type": "code",
   "execution_count": 118,
   "id": "a5e7f905-4880-4423-804b-bf144bd15007",
   "metadata": {},
   "outputs": [
    {
     "name": "stdout",
     "output_type": "stream",
     "text": [
      "(1, 2, 1, 2, 3)\n"
     ]
    }
   ],
   "source": [
    "print(ab + (3,))"
   ]
  },
  {
   "cell_type": "code",
   "execution_count": 120,
   "id": "29d31972-ddaa-410e-b3dd-6bc1c39908be",
   "metadata": {},
   "outputs": [
    {
     "name": "stdout",
     "output_type": "stream",
     "text": [
      "26\n",
      "21\n"
     ]
    }
   ],
   "source": [
    "davlatlar = [\n",
    "    \"O'zbekiston\", \"Rossiya\", \"Qozog'iston\", \"Tojikiston\", \"Qirg'iziston\",\n",
    "    \"Turkmaniston\", \"Xitoy\", \"Hindiston\", \"Pokiston\", \"Afg'oniston\",\n",
    "    \"Amerika Qo'shma Shtatlari\", \"Kanada\", \"Braziliya\", \"Argentina\", \"Meksika\",\n",
    "    \"Germaniya\", \"Fransiya\", \"Italiya\", \"Buyuk Britaniya\", \"Avstraliya\", \"Kanada\"\n",
    "    \"O'zbekiston\", \"Xitoy\", \"Germaniya\", \"Fransiya\", \"Pokiston\", \"Rossiya\"\n",
    "]\n",
    "print(len(davlatlar))\n",
    "davlatlar_set = set(davlatlar)\n",
    "print(len(davlatlar_set))"
   ]
  },
  {
   "cell_type": "code",
   "execution_count": 122,
   "id": "87377950-ef2e-44e9-9a5c-3ec568df3cf2",
   "metadata": {},
   "outputs": [],
   "source": [
    "davlatlar_set.add(\"Afrika\")"
   ]
  },
  {
   "cell_type": "code",
   "execution_count": 124,
   "id": "09c6072d-c216-4c24-a3a4-2f61ee76b849",
   "metadata": {},
   "outputs": [
    {
     "name": "stdout",
     "output_type": "stream",
     "text": [
      "{'Meksika', 'Germaniya', \"Afg'oniston\", \"Amerika Qo'shma Shtatlari\", \"O'zbekiston\", 'Braziliya', 'Kanada', 'Rossiya', 'Argentina', 'Tojikiston', 'Avstraliya', \"KanadaO'zbekiston\", 'Buyuk Britaniya', 'Hindiston', \"Qirg'iziston\", \"Qozog'iston\", 'Afrika', 'Pokiston', 'Italiya', 'Turkmaniston', 'Xitoy', 'Fransiya'}\n"
     ]
    }
   ],
   "source": [
    "print(davlatlar_set)"
   ]
  },
  {
   "cell_type": "code",
   "execution_count": 127,
   "id": "f25ab1fa-68af-4ced-8fbf-e0f95af70116",
   "metadata": {},
   "outputs": [
    {
     "data": {
      "text/plain": [
       "22"
      ]
     },
     "execution_count": 127,
     "metadata": {},
     "output_type": "execute_result"
    }
   ],
   "source": [
    "len(davlatlar_set)"
   ]
  },
  {
   "cell_type": "code",
   "execution_count": 131,
   "id": "72c1301b-4500-4a24-ab44-cf03aae2edda",
   "metadata": {},
   "outputs": [
    {
     "name": "stdout",
     "output_type": "stream",
     "text": [
      "Meksika\n"
     ]
    }
   ],
   "source": [
    "print(davlatlar_set.pop())"
   ]
  },
  {
   "cell_type": "code",
   "execution_count": 133,
   "id": "821f9ec7-535c-410f-b7f6-b50072e0d79e",
   "metadata": {},
   "outputs": [
    {
     "data": {
      "text/plain": [
       "21"
      ]
     },
     "execution_count": 133,
     "metadata": {},
     "output_type": "execute_result"
    }
   ],
   "source": [
    "len(davlatlar_set)"
   ]
  },
  {
   "cell_type": "code",
   "execution_count": 147,
   "id": "622f3402-172a-47d1-b071-a6bba09b1322",
   "metadata": {},
   "outputs": [],
   "source": [
    "import time"
   ]
  },
  {
   "cell_type": "code",
   "execution_count": 175,
   "id": "40beb267-bba1-4a57-b9d1-870a4e0af062",
   "metadata": {},
   "outputs": [
    {
     "name": "stdout",
     "output_type": "stream",
     "text": [
      "Set union time:  0.006779670715332031\n",
      "Set list time:  0.007827520370483398\n"
     ]
    }
   ],
   "source": [
    "import time\n",
    "set1 = set(range(100000))\n",
    "set2 = set(range(50000, 150000))\n",
    "list1 = list(set1)\n",
    "list2 = list(set2)\n",
    "\n",
    "#union\n",
    "start_time = time.time()\n",
    "union_set = set1.union(set2)\n",
    "print(\"Set union time: \", time.time()-start_time)\n",
    "\n",
    "start_time = time.time()\n",
    "union_list = list(set(list1+list2))\n",
    "print(\"Set list time: \", time.time() - start_time)"
   ]
  },
  {
   "cell_type": "code",
   "execution_count": 187,
   "id": "c79ba8c7-b1f6-4b6f-b309-3f20ab57cf50",
   "metadata": {},
   "outputs": [
    {
     "name": "stdout",
     "output_type": "stream",
     "text": [
      "{0, 1, 2, 3, 4, 5, 6, 7, 8, 9, 10, 11, 12, 13, 14}\n"
     ]
    }
   ],
   "source": [
    "set3 = set(range(10))\n",
    "set4 = set(range(5,15))\n",
    "set34 = set3.union(set4)\n",
    "print(set34)"
   ]
  },
  {
   "cell_type": "code",
   "execution_count": 191,
   "id": "d0e5d2aa-53fd-4271-8fe4-49945e705a81",
   "metadata": {},
   "outputs": [
    {
     "name": "stdout",
     "output_type": "stream",
     "text": [
      "6\n"
     ]
    }
   ],
   "source": [
    "elements = {'hydrogen': 1, 'helium': 2, 'carbon': 6}\n",
    "print(elements['carbon'])"
   ]
  },
  {
   "cell_type": "code",
   "execution_count": 193,
   "id": "52d5bfca-0c42-467a-b76a-5ff5b61e8521",
   "metadata": {},
   "outputs": [
    {
     "name": "stdout",
     "output_type": "stream",
     "text": [
      "{'hydrogen': 1, 'helium': 2, 'carbon': 6, 'lithium': 3}\n"
     ]
    }
   ],
   "source": [
    "elements['lithium'] = 3\n",
    "print(elements)"
   ]
  },
  {
   "cell_type": "code",
   "execution_count": 195,
   "id": "d6e5c26d-a4ad-4cd6-b8fc-a6f233db7bb8",
   "metadata": {},
   "outputs": [
    {
     "name": "stdout",
     "output_type": "stream",
     "text": [
      "True\n"
     ]
    }
   ],
   "source": [
    "print('carbon' in elements)"
   ]
  },
  {
   "cell_type": "code",
   "execution_count": 201,
   "id": "94b16580-a999-42f9-bcb1-9043dce72e32",
   "metadata": {},
   "outputs": [
    {
     "name": "stdout",
     "output_type": "stream",
     "text": [
      "False\n"
     ]
    }
   ],
   "source": [
    "print( 1 in elements)"
   ]
  },
  {
   "cell_type": "code",
   "execution_count": 203,
   "id": "0b10f53c-4de1-44db-999b-93145deab5ae",
   "metadata": {},
   "outputs": [
    {
     "name": "stdout",
     "output_type": "stream",
     "text": [
      "6\n"
     ]
    }
   ],
   "source": [
    "print(elements.get('carbon'))"
   ]
  },
  {
   "cell_type": "code",
   "execution_count": 205,
   "id": "e5dde0a8-d9f7-4fec-965c-fc7cf530dce8",
   "metadata": {},
   "outputs": [],
   "source": [
    "student_records = {\n",
    "    'Abduolim': {\n",
    "        'age': 22,\n",
    "        'major': 'Computer science',\n",
    "        'grades': [90, 100, 92]\n",
    "    },\n",
    "    'Abbosbek': {\n",
    "        'age': 20,\n",
    "        'major': 'Mathematics',\n",
    "        'grades': [100, 90, 95]\n",
    "    }\n",
    "}\n"
   ]
  },
  {
   "cell_type": "code",
   "execution_count": 207,
   "id": "dcc6d154-8e53-4127-a2dc-6c98d8568993",
   "metadata": {},
   "outputs": [
    {
     "name": "stdout",
     "output_type": "stream",
     "text": [
      "{'Abduolim': {'age': 22, 'major': 'Computer science', 'grades': [90, 100, 92]}, 'Abbosbek': {'age': 20, 'major': 'Mathematics', 'grades': [100, 90, 95]}}\n"
     ]
    }
   ],
   "source": [
    "print(student_records)"
   ]
  },
  {
   "cell_type": "code",
   "execution_count": 215,
   "id": "25e7535d-1a30-441d-b964-c857ef32f690",
   "metadata": {},
   "outputs": [],
   "source": [
    "student_records['Rayhona'] = {\n",
    "    'age': 18,\n",
    "    'magor': 'English',\n",
    "    'grades':[80, 90, 70]\n",
    "}"
   ]
  },
  {
   "cell_type": "code",
   "execution_count": 221,
   "id": "815ccddb-b1fd-4548-b192-30c83d99e47a",
   "metadata": {},
   "outputs": [
    {
     "name": "stdout",
     "output_type": "stream",
     "text": [
      "{'Abduolim': {'age': 22, 'major': 'Computer science', 'grades': [90, 100, 92]}, 'Abbosbek': {'age': 20, 'major': 'Mathematics', 'grades': [100, 90, 95]}, 'Rayhona': {'age': 18, 'magor': 'English', 'grades': [80, 90, 70]}}\n"
     ]
    }
   ],
   "source": [
    "print(student_records)"
   ]
  },
  {
   "cell_type": "code",
   "execution_count": 223,
   "id": "a2703725-901e-47de-9228-776f4416a234",
   "metadata": {},
   "outputs": [],
   "source": [
    "student_records['Rayhona']['grades'].append(88)"
   ]
  },
  {
   "cell_type": "code",
   "execution_count": 225,
   "id": "d25eb942-45c6-40d8-935f-3ea6e4a45f27",
   "metadata": {},
   "outputs": [
    {
     "name": "stdout",
     "output_type": "stream",
     "text": [
      "{'Abduolim': {'age': 22, 'major': 'Computer science', 'grades': [90, 100, 92]}, 'Abbosbek': {'age': 20, 'major': 'Mathematics', 'grades': [100, 90, 95]}, 'Rayhona': {'age': 18, 'magor': 'English', 'grades': [80, 90, 70, 88]}}\n"
     ]
    }
   ],
   "source": [
    "print(student_records)"
   ]
  },
  {
   "cell_type": "markdown",
   "id": "c3e677f7-fdd5-4dc6-80c1-8641bc8047e5",
   "metadata": {},
   "source": [
    "# Day 4"
   ]
  },
  {
   "cell_type": "code",
   "execution_count": 1,
   "id": "6b6b0070-c11d-42d3-ad30-850a73353460",
   "metadata": {},
   "outputs": [],
   "source": [
    "#flow"
   ]
  },
  {
   "cell_type": "code",
   "execution_count": 2,
   "id": "45f17ea5-37b0-4f85-bb0b-58389a2f23f8",
   "metadata": {},
   "outputs": [
    {
     "name": "stdout",
     "output_type": "stream",
     "text": [
      "hello\n"
     ]
    }
   ],
   "source": [
    "print(\"hello\")"
   ]
  },
  {
   "cell_type": "code",
   "execution_count": null,
   "id": "f110d5ff-d242-4bb2-aa08-803f7b4bc4ee",
   "metadata": {},
   "outputs": [],
   "source": []
  }
 ],
 "metadata": {
  "kernelspec": {
   "display_name": "Python 3 (ipykernel)",
   "language": "python",
   "name": "python3"
  },
  "language_info": {
   "codemirror_mode": {
    "name": "ipython",
    "version": 3
   },
   "file_extension": ".py",
   "mimetype": "text/x-python",
   "name": "python",
   "nbconvert_exporter": "python",
   "pygments_lexer": "ipython3",
   "version": "3.12.0"
  }
 },
 "nbformat": 4,
 "nbformat_minor": 5
}
